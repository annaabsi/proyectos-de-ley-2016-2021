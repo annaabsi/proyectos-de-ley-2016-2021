{
 "cells": [
  {
   "cell_type": "code",
   "execution_count": 13,
   "metadata": {},
   "outputs": [],
   "source": [
    "import pandas as pd\n",
    "\n",
    "df = pd.read_html('https://www2.congreso.gob.pe/Sicr/TraDocEstProc/CLProLey2016.nsf/debusqueda?SearchView&Query=reforma%20constitucional%20&SearchOrder=4&SearchMax=1000target=%27_blank')\n",
    "\n",
    "df = df[2]\n",
    "df.dropna(how='all', inplace=True)\n",
    "df.reset_index(drop=True, inplace=True)\n",
    "df.dropna(axis=1, how='all', inplace=True)\n",
    "df.drop(0, inplace=True)\n",
    "\n",
    "df.columns = ['NÚMERO', 'ESTADO', 'PRESENTACIÓN', 'TÍTULO']\n",
    "df.to_csv('proyectos_de_ley_2016_2021_reforma_constitucional.csv')"
   ]
  }
 ],
 "metadata": {
  "interpreter": {
   "hash": "916dbcbb3f70747c44a77c7bcd40155683ae19c65e1c03b4aa3499c5328201f1"
  },
  "kernelspec": {
   "display_name": "Python 3.9.7 64-bit",
   "language": "python",
   "name": "python3"
  },
  "language_info": {
   "codemirror_mode": {
    "name": "ipython",
    "version": 3
   },
   "file_extension": ".py",
   "mimetype": "text/x-python",
   "name": "python",
   "nbconvert_exporter": "python",
   "pygments_lexer": "ipython3",
   "version": "3.9.7"
  },
  "orig_nbformat": 4
 },
 "nbformat": 4,
 "nbformat_minor": 2
}
